{
  "cells": [
    {
      "cell_type": "markdown",
      "metadata": {
        "id": "view-in-github",
        "colab_type": "text"
      },
      "source": [
        "<a href=\"https://colab.research.google.com/github/MohabGamal/Computer-Vision-Course-Labs/blob/master/Lab_2_task_computer_vision.ipynb\" target=\"_parent\"><img src=\"https://colab.research.google.com/assets/colab-badge.svg\" alt=\"Open In Colab\"/></a>"
      ]
    },
    {
      "cell_type": "code",
      "execution_count": 1,
      "metadata": {
        "id": "Zx9-ba1yzAM1"
      },
      "outputs": [],
      "source": [
        "import numpy as np"
      ]
    },
    {
      "cell_type": "code",
      "source": [
        "def convlved_matrix_size(matrix_size, filterr_size):\n",
        "    size = 0\n",
        "    for i in range(matrix_size):\n",
        "        sum = i + filterr_size\n",
        "        if sum <= matrix_size:\n",
        "            size += 1\n",
        "            \n",
        "    return size"
      ],
      "metadata": {
        "id": "maQudUjv0N_C"
      },
      "execution_count": 29,
      "outputs": []
    },
    {
      "cell_type": "code",
      "source": [
        "convlved_matrix_size(3, 2)"
      ],
      "metadata": {
        "colab": {
          "base_uri": "https://localhost:8080/"
        },
        "id": "R8hdmokh0QQF",
        "outputId": "8fa9e333-d917-481d-f5d7-53ab42828963"
      },
      "execution_count": 60,
      "outputs": [
        {
          "output_type": "execute_result",
          "data": {
            "text/plain": [
              "2"
            ]
          },
          "metadata": {},
          "execution_count": 60
        }
      ]
    },
    {
      "cell_type": "code",
      "source": [
        "def convolution(matrix, filterr):\n",
        "    matrix_size = matrix.shape[0]\n",
        "    filterr_size = filterr.shape[0]\n",
        "\n",
        "    fs = filterr_size\n",
        "    convlved_size = convlved_matrix_size(matrix_size, filterr_size)\n",
        "    convolved_matrix = np.zeros(shape=(convlved_size, convlved_size))\n",
        "    \n",
        "    for i in range(convlved_size):\n",
        "        for j in range(convlved_size):\n",
        "            temp = matrix[i:i+fs, j:j+fs]\n",
        "            \n",
        "            convolved_matrix[i, j] = np.sum(np.multiply(filterr, temp))\n",
        "\n",
        "    return convolved_matrix"
      ],
      "metadata": {
        "id": "ic9bK-_N0Zzb"
      },
      "execution_count": 57,
      "outputs": []
    },
    {
      "cell_type": "code",
      "execution_count": 58,
      "metadata": {
        "id": "kEvtGTWQzAM3"
      },
      "outputs": [],
      "source": [
        "matrix = np.array((\n",
        "    [0, -1, 0],\n",
        "    [-1, 5, -1],\n",
        "    [0, 1, 5]), dtype=\"int\")  # 3x3 \n",
        "\n",
        "filterr = np.array((\n",
        "    [0, 1],\n",
        "    [-1, 2]), dtype=\"int\")   # 2x2"
      ]
    },
    {
      "cell_type": "code",
      "execution_count": 59,
      "metadata": {
        "id": "HxU07m5wzAM4"
      },
      "outputs": [],
      "source": [
        "matrix_convoluted = convolution(np.array(matrix), filterr)"
      ]
    },
    {
      "cell_type": "code",
      "source": [
        "matrix_convoluted"
      ],
      "metadata": {
        "colab": {
          "base_uri": "https://localhost:8080/"
        },
        "id": "g9k5yb5n03j9",
        "outputId": "22b84366-aa49-42bb-e9a1-ecfa6145f35b"
      },
      "execution_count": 55,
      "outputs": [
        {
          "output_type": "execute_result",
          "data": {
            "text/plain": [
              "array([[10., -7.],\n",
              "       [ 7.,  8.]])"
            ]
          },
          "metadata": {},
          "execution_count": 55
        }
      ]
    }
  ],
  "metadata": {
    "kernelspec": {
      "display_name": "Python 3.8.0 64-bit",
      "language": "python",
      "name": "python3"
    },
    "language_info": {
      "codemirror_mode": {
        "name": "ipython",
        "version": 3
      },
      "file_extension": ".py",
      "mimetype": "text/x-python",
      "name": "python",
      "nbconvert_exporter": "python",
      "pygments_lexer": "ipython3",
      "version": "3.8.0"
    },
    "vscode": {
      "interpreter": {
        "hash": "9faa27367d8809f17efa01381c296b23b33e7966403c8c5a88e68f02f779827d"
      }
    },
    "colab": {
      "provenance": [],
      "include_colab_link": true
    },
    "gpuClass": "standard"
  },
  "nbformat": 4,
  "nbformat_minor": 0
}